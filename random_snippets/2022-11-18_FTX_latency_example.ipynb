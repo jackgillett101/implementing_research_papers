{
 "cells": [
  {
   "cell_type": "code",
   "execution_count": null,
   "id": "11878fc0",
   "metadata": {},
   "outputs": [],
   "source": [
    "from tardis_dev import datasets\n",
    "import gzip\n",
    "import shutil\n",
    "\n",
    "# https://tardis.dev/ provide excellent crypto data, the first day of\n",
    "# each month is free so we'll use that\n",
    "\n",
    "exchange_datasets = {\n",
    "    \"bitmex\": \"XBTUSD\",\n",
    "    \"okex-swap\": \"BTC-USDT-SWAP\",\n",
    "    \"binance-futures\": \"BTCUSDT\",\n",
    "    \"ftx\": \"BTC-PERP\"\n",
    "}\n",
    "\n",
    "# Can't run this out of a notebook due to event loops but just run from\n",
    "# command line in ipython shell instead!\n",
    "\n",
    "for exchange, dataset in exchange_datasets.items():\n",
    "    datasets.download(\n",
    "        exchange=exchange,\n",
    "        data_types=[\n",
    "            \"incremental_book_L2\"\n",
    "        ],\n",
    "        from_date=\"2022-09-01\",\n",
    "        to_date=\"2022-09-02\",\n",
    "        symbols=[dataset],\n",
    "    )\n",
    "\n",
    "    file_name = f\"datasets/{exchange}_incremental_book_L2_2022-09-01_{dataset}.csv\"\n",
    "\n",
    "    with gzip.open(f\"{file_name}.gz\", \"rb\") as f_in:\n",
    "        with open(file_name, \"wb\") as f_out:\n",
    "            shutil.copyfileobj(f_in, f_out)"
   ]
  },
  {
   "cell_type": "code",
   "execution_count": 1,
   "id": "496cd21b",
   "metadata": {},
   "outputs": [
    {
     "data": {
      "image/png": "[encoded data removed]",
      "text/plain": [
       "<Figure size 432x288 with 1 Axes>"
      ]
     },
     "metadata": {
      "needs_background": "light"
     },
     "output_type": "display_data"
    }
   ],
   "source": [
    "import numpy as np\n",
    "import pandas as pd\n",
    "from matplotlib import pyplot as plt\n",
    "\n",
    "nrows = 5e6\n",
    "data = {}\n",
    "\n",
    "exchange_datasets = {\n",
    "    \"bitmex\": \"XBTUSD\",\n",
    "    \"okex-swap\": \"BTC-USDT-SWAP\",\n",
    "    \"binance-futures\": \"BTCUSDT\",\n",
    "    \"ftx\": \"BTC-PERP\"\n",
    "}\n",
    "\n",
    "for exchange, dataset in exchange_datasets.items():\n",
    "    file_name = f\"datasets/{exchange}_incremental_book_L2_2022-09-01_{dataset}.csv.gz\"\n",
    "\n",
    "    data[exchange] = pd.read_csv(file_name, nrows=nrows)\n",
    "\n",
    "    data[exchange][\"exchange_time\"] = pd.to_datetime(data[exchange][\"timestamp\"], unit=\"us\")\n",
    "    data[exchange][\"received_time\"] = pd.to_datetime(data[exchange][\"local_timestamp\"], unit=\"us\")\n",
    "    data[exchange][\"delay_ms\"] = (data[exchange][\"local_timestamp\"] - data[exchange][\"timestamp\"]) / 1000\n",
    "\n",
    "    plt.hist(data[exchange][\"delay_ms\"], bins=np.linspace(0, 60, 50), density=True, label=exchange, alpha=0.4)\n",
    "\n",
    "plt.title(\"ms orderbook diff delay for BTC Perps (tardis.dev)\")\n",
    "plt.xlabel(\"ms delay\")\n",
    "plt.legend()\n",
    "plt.grid()"
   ]
  },
  {
   "cell_type": "code",
   "execution_count": null,
   "id": "5132d8d9",
   "metadata": {},
   "outputs": [],
   "source": []
  }
 ],
 "metadata": {
  "kernelspec": {
   "display_name": "Python 3 (ipykernel)",
   "language": "python",
   "name": "python3"
  },
  "language_info": {
   "codemirror_mode": {
    "name": "ipython",
    "version": 3
   },
   "file_extension": ".py",
   "mimetype": "text/x-python",
   "name": "python",
   "nbconvert_exporter": "python",
   "pygments_lexer": "ipython3",
   "version": "3.10.2"
  }
 },
 "nbformat": 4,
 "nbformat_minor": 5
}
