{
 "cells": [
  {
   "cell_type": "code",
   "execution_count": 1,
   "metadata": {},
   "outputs": [],
   "source": [
    "import numpy as np\n",
    "import QuantLib as ql\n",
    "from scipy.integrate import quad"
   ]
  },
  {
   "cell_type": "code",
   "execution_count": 2,
   "metadata": {},
   "outputs": [],
   "source": [
    "# First let's match a vanilla price, which simplifies things\n",
    "K, spot = 100, 100\n",
    "T, t = 1.0, 0.0\n",
    "r, q = 0.0, 0.0\n",
    "\n",
    "t_n = [T]\n",
    "n = len(t_n)\n",
    "\n",
    "vol = 0.3\n",
    "v0 = vol * vol\n",
    "kappa = 1.15\n",
    "theta = 0.0348\n",
    "rho = -0.64\n",
    "sigma = 0.39\n",
    "\n",
    "# global lookup\n",
    "global lookup\n",
    "\n",
    "lookup = {}"
   ]
  },
  {
   "cell_type": "code",
   "execution_count": 3,
   "metadata": {},
   "outputs": [
    {
     "data": {
      "text/plain": [
       "0"
      ]
     },
     "execution_count": 3,
     "metadata": {},
     "output_type": "execute_result"
    }
   ],
   "source": [
    "# Intermediate params\n",
    "\n",
    "k_star = 0\n",
    "\n",
    "for i, t_star in enumerate(t_n):\n",
    "    if t > t_star:\n",
    "        k_star = i+1\n",
    "\n",
    "def tau_k(t, k):\n",
    "    if k < k_star or k > n+1:\n",
    "        raise KeyError(\"tau_k: k is out of range.. {}\".format(k))\n",
    "    if k == k_star:\n",
    "        return t\n",
    "    if k == n+1:\n",
    "        return T\n",
    "\n",
    "    return t_n[k-1]\n",
    "\n",
    "def omega(s, w, k):\n",
    "    if k < k_star or k > n+1:\n",
    "        raise KeyError(\"omega_k: k is out of range.. {}\".format(k))\n",
    "    if k == k_star:\n",
    "        return 0\n",
    "    if k == n+1:\n",
    "        return rho*w/sigma\n",
    "\n",
    "    return rho*s/(sigma*n)\n",
    "\n",
    "k_star"
   ]
  },
  {
   "cell_type": "code",
   "execution_count": 4,
   "metadata": {},
   "outputs": [],
   "source": [
    "def z(s,w,k):\n",
    "    term_1 = 0.5 * (2*rho*kappa - sigma)*((n-k+1)*s + w*n) / (sigma*n)\n",
    "    term_2 = 0.5 * (1 - rho**2) * ((n-k+1)*s + n*w)**2 / n**2\n",
    "\n",
    "    return term_1 + term_2\n",
    "\n",
    "def a(s,w,t):\n",
    "    term_1 = (s*(n-k_star)/n + w) * (np.log(spot) - rho*v0/sigma - t*(r - rho*kappa*theta/sigma))\n",
    "    term_2 = (r - rho*kappa*theta/sigma) * (s*(np.sum(t_n))/n + w*T)\n",
    "\n",
    "    return term_1 + term_2\n",
    "\n",
    "def F(z1, z2, tau):\n",
    "    x = np.sqrt(kappa**2 - 2*z1*sigma**2)\n",
    "\n",
    "    term_1 = np.cosh(0.5 * tau * x)\n",
    "    term_2 = (kappa - z2 * sigma**2) * np.sinh(0.5 * tau * x) / x\n",
    "\n",
    "    return term_1 + term_2\n",
    "\n",
    "def F_tilde(z1, z2, tau):\n",
    "    x = np.sqrt(kappa**2 - 2*z1*sigma**2)\n",
    "    term_1 = 0.5 * x * np.sinh(0.5 * tau * x)\n",
    "    term_2 = 0.5 * (kappa - z2 * sigma**2) * np.cosh(0.5 * tau * x)\n",
    "\n",
    "    return term_1 + term_2"
   ]
  },
  {
   "cell_type": "code",
   "execution_count": 5,
   "metadata": {},
   "outputs": [],
   "source": [
    "def omega_tilde(s, w, k):\n",
    "    if k < k_star or k > n+1:\n",
    "        raise KeyError(\"omega_tilde: k is out of range.. {}\".format(k))\n",
    "\n",
    "    omega_k = omega(s, w, k)\n",
    "\n",
    "    if k == n+1:\n",
    "        return omega_k\n",
    "\n",
    "    tau_temp = tau_k(t, k+1) - tau_k(t, k)\n",
    "    z_k = z(s, w, k+1)\n",
    "\n",
    "    if (s, w, k+1) in lookup:\n",
    "        omega_tilde_k = lookup[(s, w, k+1)]\n",
    "    else:\n",
    "        omega_tilde_k = omega_tilde(s, w, k+1)\n",
    "\n",
    "    result = omega_k + kappa/sigma**2 - 2*F_tilde(z_k,omega_tilde_k,tau_temp)/(F(z_k,omega_tilde_k,tau_temp)*sigma**2)\n",
    "    lookup[(s, w, k)] = result\n",
    "    return result"
   ]
  },
  {
   "cell_type": "code",
   "execution_count": 6,
   "metadata": {},
   "outputs": [],
   "source": [
    "def Phi(s, w, t):\n",
    "    term_1 = a(s,w,t) + omega_tilde(s,w,k_star) * v0\n",
    "    term_2 = kappa**2 * theta * (T-t) / sigma**2\n",
    "    term_3 = 2 * kappa * theta / sigma**2\n",
    "\n",
    "    summation = 0\n",
    "    for k in range(k_star+1, n+2):\n",
    "        tau_temp = tau_k(t, k) - tau_k(t, k-1)\n",
    "        summation += np.log(F(z(s,w,k), omega_tilde(s,w,k), tau_temp))\n",
    "\n",
    "    return np.exp(term_1 + term_2 - term_3 * summation)\n",
    "\n",
    "def integrand(epsilon):\n",
    "    term_1 = Phi(1 + epsilon*1j,0,0) - K * Phi(epsilon*1j,0,0)\n",
    "    term_2 = np.exp(-1j*epsilon*np.log(K))/(epsilon*1j)\n",
    "\n",
    "    return np.real(term_1 * term_2)"
   ]
  },
  {
   "cell_type": "code",
   "execution_count": 7,
   "metadata": {},
   "outputs": [
    {
     "data": {
      "text/plain": [
       "(99.99999999999996, 9.609183144640326, 9.609183144640369)"
      ]
     },
     "execution_count": 7,
     "metadata": {},
     "output_type": "execute_result"
    }
   ],
   "source": [
    "# Calculated Prices\n",
    "forward = Phi(1, 0, 0)\n",
    "call_price = np.exp(-r)*((Phi(1, 0, 0) - K) / 2 + quad(integrand,  1e-8, 120, limit=10000)[0] / np.pi)\n",
    "put_price = np.exp(-r)*((K - Phi(1, 0, 0)) / 2 + quad(integrand, 1e-8, 120, limit=10000)[0] / np.pi)\n",
    "\n",
    "forward, call_price, put_price"
   ]
  },
  {
   "cell_type": "code",
   "execution_count": 8,
   "metadata": {},
   "outputs": [
    {
     "name": "stdout",
     "output_type": "stream",
     "text": [
      "v0: 0.09, kappa: 1.15, theta: 0.0348, rho: -0.64, sigma: 0.39, r: 0.0, spot: 100, K: 100\n"
     ]
    },
    {
     "data": {
      "text/plain": [
       "(9.609183165210446, 9.609183165210446)"
      ]
     },
     "execution_count": 8,
     "metadata": {},
     "output_type": "execute_result"
    }
   ],
   "source": [
    "#Explicit Vanilla Prices - MATCH!!!\n",
    "print(\"v0: {}, kappa: {}, theta: {}, rho: {}, sigma: {}, r: {}, spot: {}, K: {}\".format(v0, kappa, theta, rho, sigma, r, spot, K))\n",
    "\n",
    "today = ql.Date(1, 12, 2020)\n",
    "day_count = ql.Actual365Fixed()\n",
    "expiry_date = today + ql.Period(12, ql.Months)\n",
    "\n",
    "rTS = ql.YieldTermStructureHandle(ql.FlatForward(today, r, day_count))\n",
    "qTS = ql.YieldTermStructureHandle(ql.FlatForward(today, q, day_count))\n",
    "spot_quote = ql.QuoteHandle(ql.SimpleQuote(spot))\n",
    "\n",
    "heston_process = ql.HestonProcess(rTS, qTS, spot_quote, v0, kappa, theta, sigma, rho)\n",
    "heston_model = ql.HestonModel(heston_process)\n",
    "heston_engine = ql.AnalyticHestonEngine(heston_model)\n",
    "\n",
    "european_exercise = ql.EuropeanExercise(expiry_date)\n",
    "vanilla_payoff = ql.PlainVanillaPayoff(ql.Option.Call, K)\n",
    "vanilla_payoff_put = ql.PlainVanillaPayoff(ql.Option.Put, K)\n",
    "\n",
    "vanilla = ql.VanillaOption(vanilla_payoff, european_exercise)\n",
    "vanilla_2 = ql.VanillaOption(vanilla_payoff_put, european_exercise)\n",
    "\n",
    "vanilla.setPricingEngine(heston_engine)\n",
    "vanilla_2.setPricingEngine(heston_engine)\n",
    "\n",
    "vanilla.NPV(), vanilla_2.NPV()"
   ]
  },
  {
   "cell_type": "code",
   "execution_count": null,
   "metadata": {},
   "outputs": [],
   "source": []
  },
  {
   "cell_type": "code",
   "execution_count": 9,
   "metadata": {},
   "outputs": [],
   "source": [
    "# Now match to a result in the paper - 1.0y, K=100 - Price: 7.2243\n",
    "K, spot = 100, 100\n",
    "T, t = 1.0, 0.0\n",
    "r, q = 0.05, 0.0\n",
    "\n",
    "t_n = np.linspace(0, T, 52)[1:]\n",
    "n = len(t_n)\n",
    "\n",
    "vol = 0.3\n",
    "v0 = vol * vol\n",
    "kappa = 1.15\n",
    "theta = 0.0348\n",
    "rho = -0.64\n",
    "sigma = 0.39\n",
    "\n",
    "lookup = {}"
   ]
  },
  {
   "cell_type": "code",
   "execution_count": 10,
   "metadata": {},
   "outputs": [
    {
     "data": {
      "text/plain": [
       "(0, 0.0, 0.0196078431372549, 0.0392156862745098)"
      ]
     },
     "execution_count": 10,
     "metadata": {},
     "output_type": "execute_result"
    }
   ],
   "source": [
    "# Intermediate params, calculate properly\n",
    "\n",
    "k_star = 0\n",
    "\n",
    "for i, t_star in enumerate(t_n):\n",
    "    if t > t_star:\n",
    "        k_star = i+1\n",
    "\n",
    "def tau_k(t, k):\n",
    "    if k < k_star or k > n+1:\n",
    "        raise KeyError(\"tau_k: k is out of range.. {}\".format(k))\n",
    "    if k == k_star:\n",
    "        return t\n",
    "    if k == n+1:\n",
    "        return T\n",
    "\n",
    "    return t_n[k-1]\n",
    "\n",
    "def omega(s, w, k):\n",
    "    if k < k_star or k > n+1:\n",
    "        raise KeyError(\"omega_k: k is out of range.. {}\".format(k))\n",
    "    if k == k_star:\n",
    "        return 0\n",
    "    if k == n+1:\n",
    "        return rho*w/sigma\n",
    "\n",
    "    return rho*s/(sigma*n)\n",
    "\n",
    "k_star, tau_k(0.0, 0), tau_k(0.0, 1), tau_k(0.0, 2)"
   ]
  },
  {
   "cell_type": "code",
   "execution_count": 11,
   "metadata": {},
   "outputs": [
    {
     "data": {
      "text/plain": [
       "(102.0544608281353, 7.226438177679556, 5.27217458647315)"
      ]
     },
     "execution_count": 11,
     "metadata": {},
     "output_type": "execute_result"
    }
   ],
   "source": [
    "# Calculated Prices\n",
    "asian_forward_price = Phi(1, 0, 0)\n",
    "call_price = np.exp(-r)*((Phi(1, 0, 0) - K) / 2 + quad(integrand,  1e-8, 120, limit=10000)[0] / np.pi)\n",
    "put_price = np.exp(-r)*((K - Phi(1, 0, 0)) / 2 + quad(integrand, 1e-8, 120, limit=10000)[0] / np.pi)\n",
    "\n",
    "asian_forward_price, call_price, put_price"
   ]
  },
  {
   "cell_type": "code",
   "execution_count": null,
   "metadata": {},
   "outputs": [],
   "source": []
  }
 ],
 "metadata": {
  "kernelspec": {
   "display_name": "Python 3",
   "language": "python",
   "name": "python3"
  },
  "language_info": {
   "codemirror_mode": {
    "name": "ipython",
    "version": 3
   },
   "file_extension": ".py",
   "mimetype": "text/x-python",
   "name": "python",
   "nbconvert_exporter": "python",
   "pygments_lexer": "ipython3",
   "version": "3.8.5"
  }
 },
 "nbformat": 4,
 "nbformat_minor": 4
}
